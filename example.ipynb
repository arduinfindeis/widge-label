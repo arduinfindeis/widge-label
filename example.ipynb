{
 "cells": [
  {
   "cell_type": "markdown",
   "metadata": {},
   "source": [
    "# Example Notebook for Widge Label"
   ]
  },
  {
   "cell_type": "code",
   "execution_count": null,
   "metadata": {},
   "outputs": [],
   "source": [
    "import widgelabel\n",
    "client = widgelabel.LabellingClient(text_file=\"sample_data/sample_text_data.csv\",\n",
    "                                     label_file=\"sample_data/sample_label_file.csv\",\n",
    "                                     tags_file=\"sample_data/sample_tags_file.csv\",\n",
    "                                     text_key = \"text\",\n",
    "                                     unique_id_key =\"id\",\n",
    "                                     additional_cols_names = [\"other_column\",\"id\"],\n",
    "                                     emphasis_regex=\"(?i)is|text\",\n",
    "                                     emphasis_color=\"blue\",\n",
    "                                     auto_save=True)\n",
    "widget = client.create_widget()\n",
    "display(widget)"
   ]
  },
  {
   "cell_type": "code",
   "execution_count": null,
   "metadata": {},
   "outputs": [],
   "source": []
  }
 ],
 "metadata": {
  "kernelspec": {
   "display_name": "Python 3",
   "language": "python",
   "name": "python3"
  },
  "language_info": {
   "codemirror_mode": {
    "name": "ipython",
    "version": 3
   },
   "file_extension": ".py",
   "mimetype": "text/x-python",
   "name": "python",
   "nbconvert_exporter": "python",
   "pygments_lexer": "ipython3",
   "version": "3.6.7"
  }
 },
 "nbformat": 4,
 "nbformat_minor": 4
}
